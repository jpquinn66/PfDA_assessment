{
 "cells": [
  {
   "cell_type": "markdown",
   "id": "97fda4be",
   "metadata": {},
   "source": [
    "# <ins>Programming for Data analysis assignment</ins>"
   ]
  },
  {
   "cell_type": "markdown",
   "id": "cd81d06a",
   "metadata": {},
   "source": [
    "Assignment run by JP Quinn\n",
    "Student: G00411303"
   ]
  },
  {
   "cell_type": "markdown",
   "id": "bfcafde5",
   "metadata": {},
   "source": [
    "## Project outline\n",
    "***"
   ]
  },
  {
   "cell_type": "markdown",
   "id": "180290f7",
   "metadata": {},
   "source": [
    "The goal for this project is to choose a dataset for a real world phenomenon across a range of variables, Investigate the types of variables involved, their likely distributions, and their relationships with each other and then attempt to synthesise a dataset to match the real world data as closely as possible\n"
   ]
  },
  {
   "cell_type": "markdown",
   "id": "6f2e0f25",
   "metadata": {},
   "source": [
    "## Introduction\n",
    "***"
   ]
  },
  {
   "cell_type": "markdown",
   "id": "1d213ddd",
   "metadata": {},
   "source": [
    "For this project I will be working with a dataset I found on the UCI data repository. https://archive.ics.uci.edu/ml/datasets/Bike+Sharing+Dataset\n",
    "\n",
    "The data comes from a bikesharing service and the variables are broken down into\n",
    "\n",
    " - date/time information (date/year/month/hour/weekday)\n",
    " - weather information (temperature/humidity/windspeed/weathertype(explained below)\n",
    " - count of users, split between casual and registered\n",
    " \n",
    " Weather situation\n",
    " The weather is assigned 4 numeric values, explained below\n",
    " \n",
    "  1: Clear, Few clouds, Partly cloudy, Partly cloudy\n",
    "  2: Mist + Cloudy, Mist + Broken clouds, Mist + Few clouds, Mist\n",
    "  3: Light Snow, Light Rain + Thunderstorm + Scattered clouds, Light Rain + Scattered clouds\n",
    "  4: Heavy Rain + Ice Pallets + Thunderstorm + Mist, Snow + Fog\n",
    "  \n",
    "I chose this particular data as I am interested to see the relationship between both the weather and the day of week and the usage of the service, and I am interested in the challenge of replicating these relationships by synthesising a dataset\n",
    " \n",
    " "
   ]
  }
 ],
 "metadata": {
  "kernelspec": {
   "display_name": "Python 3 (ipykernel)",
   "language": "python",
   "name": "python3"
  },
  "language_info": {
   "codemirror_mode": {
    "name": "ipython",
    "version": 3
   },
   "file_extension": ".py",
   "mimetype": "text/x-python",
   "name": "python",
   "nbconvert_exporter": "python",
   "pygments_lexer": "ipython3",
   "version": "3.9.7"
  }
 },
 "nbformat": 4,
 "nbformat_minor": 5
}
