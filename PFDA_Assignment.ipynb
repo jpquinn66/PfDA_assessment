{
 "cells": [
  {
   "cell_type": "markdown",
   "id": "97fda4be",
   "metadata": {},
   "source": [
    "# Programming for Data analysis assignment\n",
    "***"
   ]
  },
  {
   "cell_type": "markdown",
   "id": "cd81d06a",
   "metadata": {},
   "source": [
    "Assignment run by JP Quinn\n",
    "Student: G00411303"
   ]
  },
  {
   "cell_type": "markdown",
   "id": "bfcafde5",
   "metadata": {},
   "source": [
    "## Project outline\n",
    "***"
   ]
  },
  {
   "cell_type": "markdown",
   "id": "180290f7",
   "metadata": {},
   "source": [
    "The goal for this project is to choose a dataset for a real world phenomenon across a range of variables, Investigate the types of variables involved, their likely distributions, and their relationships with each other and then attempt to synthesise a dataset to match the real world data as closely as possible\n"
   ]
  },
  {
   "cell_type": "markdown",
   "id": "6f2e0f25",
   "metadata": {},
   "source": [
    "## Introduction\n",
    "***"
   ]
  },
  {
   "cell_type": "markdown",
   "id": "1d213ddd",
   "metadata": {},
   "source": [
    "For this project I will be working with a dataset I found on the UCI data repository. https://archive.ics.uci.edu/ml/datasets/Bike+Sharing+Dataset\n",
    "\n",
    "The data comes from a bikesharing service and the variables are broken down into\n",
    "\n",
    " - date/time information (date/year/month/hour/weekday)\n",
    " - weather information (temperature/humidity/windspeed/weathertype(explained below)\n",
    " - count of users, split between casual and registered\n",
    " \n",
    " Weather situation\n",
    " The weather is assigned 4 numeric values, explained below\n",
    " \n",
    "  1: Clear, Few clouds, Partly cloudy, Partly cloudy\n",
    "  2: Mist + Cloudy, Mist + Broken clouds, Mist + Few clouds, Mist\n",
    "  3: Light Snow, Light Rain + Thunderstorm + Scattered clouds, Light Rain + Scattered clouds\n",
    "  4: Heavy Rain + Ice Pallets + Thunderstorm + Mist, Snow + Fog\n",
    "  \n",
    "I chose this particular data as I am interested to see the relationship between both the weather and the day of week and the usage of the service, and I am interested in the challenge of replicating these relationships by synthesising a dataset\n",
    "\n",
    "The data is from usage in Porto, Portugal\n",
    " \n",
    " "
   ]
  },
  {
   "cell_type": "markdown",
   "id": "4367ea9f",
   "metadata": {},
   "source": [
    "## Working with the data\n",
    "***"
   ]
  },
  {
   "cell_type": "code",
   "execution_count": 22,
   "id": "96d7f503",
   "metadata": {},
   "outputs": [],
   "source": [
    "import pandas as pd\n",
    "import numpy as np\n",
    "import seaborn as sns\n",
    "import matplotlib.pyplot as plt\n",
    "## Imports all the packages I will be using throughout the project"
   ]
  },
  {
   "cell_type": "code",
   "execution_count": 23,
   "id": "b5329ba8",
   "metadata": {},
   "outputs": [
    {
     "name": "stdout",
     "output_type": "stream",
     "text": [
      "3292679\n"
     ]
    }
   ],
   "source": [
    "\n",
    "bkdata = pd.read_csv('day.csv')\n",
    "totalusers= bkdata['casual'].sum()+bkdata['registered'].sum()\n",
    "print (totalusers)\n",
    "##reads the csv file with the raw data and sums 2 columns to give me the total users over the 2 years "
   ]
  },
  {
   "cell_type": "code",
   "execution_count": 24,
   "id": "44c9767a",
   "metadata": {},
   "outputs": [
    {
     "data": {
      "text/plain": [
       "<AxesSubplot:title={'center':'Usage by day'}, xlabel='day'>"
      ]
     },
     "execution_count": 24,
     "metadata": {},
     "output_type": "execute_result"
    },
    {
     "data": {
      "image/png": "[encoded data removed]",
      "text/plain": [
       "<Figure size 432x288 with 1 Axes>"
      ]
     },
     "metadata": {
      "needs_background": "light"
     },
     "output_type": "display_data"
    }
   ],
   "source": [
    "df = pd.DataFrame(bkdata)\n",
    "\n",
    "df = pd.DataFrame(bkdata)\n",
    "df['dteday'] =  pd.to_datetime(df['dteday'])\n",
    "df['day'] = df['dteday'].dt.day_name()\n",
    "df[['day', 'cnt']].groupby('day').sum().plot(kind='bar', legend=None, title='Usage by day')\n",
    "## creates datafram (df) using pandas and assigns day name to the date value, I did this as the raw data only contained \n",
    "##day numbers and I wanted the chart to be clearer\n",
    "\n"
   ]
  },
  {
   "cell_type": "markdown",
   "id": "5450d6c2",
   "metadata": {},
   "source": [
    "Looking at the day by day usage we see there isn't a huge variance based on the weekday, The totals by weekday ranging from about 44000 to 47000 in total. In the breakdown below we see the average users per day for the bike rentals is between 4228 and 4690 a day, giving an average of 4504."
   ]
  },
  {
   "cell_type": "code",
   "execution_count": 25,
   "id": "223ce276",
   "metadata": {},
   "outputs": [
    {
     "name": "stdout",
     "output_type": "stream",
     "text": [
      "Totals and average by day\n",
      "weekday\n",
      "0    444027\n",
      "1    455503\n",
      "2    469109\n",
      "3    473048\n",
      "4    485395\n",
      "5    487790\n",
      "6    477807\n",
      "Name: cnt, dtype: int64 weekday\n",
      "0    4228.828571\n",
      "1    4338.123810\n",
      "2    4510.663462\n",
      "3    4548.538462\n",
      "4    4667.259615\n",
      "5    4690.288462\n",
      "6    4550.542857\n",
      "Name: cnt, dtype: float64\n"
     ]
    }
   ],
   "source": [
    "dy= bkdata.groupby('weekday').sum()\n",
    "avdy= bkdata.groupby('weekday').mean()\n",
    "print('Totals and average by day')\n",
    "print(dy['cnt'],avdy['cnt'])\n",
    "##uses the sum()and mean() functions to get the total and average values from column cnt(combined registered and casual users)\n",
    "##by weekday, from the dataframe (bkdata)"
   ]
  },
  {
   "cell_type": "code",
   "execution_count": 26,
   "id": "4ff3b02b",
   "metadata": {},
   "outputs": [
    {
     "name": "stdout",
     "output_type": "stream",
     "text": [
      "4504.3488372093025\n"
     ]
    }
   ],
   "source": [
    "aver = bkdata.cnt.mean()\n",
    "print(aver)\n",
    "##prints average of cnt"
   ]
  },
  {
   "cell_type": "markdown",
   "id": "ffed4330",
   "metadata": {},
   "source": [
    "Looking at the average numbers we see that most bikes are rented between day 2 (Tuesday) and day 6 (Saturday), the difference isn't huge, only Sunday and Monday fall below the average (4504)"
   ]
  },
  {
   "cell_type": "code",
   "execution_count": 27,
   "id": "8fb96e2b",
   "metadata": {},
   "outputs": [
    {
     "data": {
      "image/png": "[encoded data removed]",
      "text/plain": [
       "<Figure size 432x288 with 4 Axes>"
      ]
     },
     "metadata": {
      "needs_background": "light"
     },
     "output_type": "display_data"
    }
   ],
   "source": [
    "fig, ax = plt.subplots(2, 2) ##creates subplot in format of 2 vertical, 2 horizontal\n",
    "ax[0, 0].scatter(x = df['cnt'], y = df['weathersit'])\n",
    "ax[0, 0].set_xlabel(\"Total users\")\n",
    "ax[0, 0].set_ylabel(\"weather status\")\n",
    "\n",
    "ax[0, 1].scatter(x = df['cnt'], y = df['windspeed'])\n",
    "ax[0, 1].set_xlabel(\"Total users\")\n",
    "ax[0, 1].set_ylabel(\"Windspeed\")\n",
    "\n",
    "ax[1, 0].scatter(x = df['cnt'], y = df['hum'])\n",
    "ax[1, 0].set_xlabel(\"Total users\")\n",
    "ax[1, 0].set_ylabel(\"Humidity\")\n",
    "\n",
    "ax[1, 1].scatter(x = df['cnt'], y = df['temp'])\n",
    "ax[1, 1].set_xlabel(\"Total users\")\n",
    "ax[1, 1].set_ylabel(\"Temperature\")\n",
    "\n",
    "plt.show()\n",
    "##uses subplot function of matplotlib to show the 4 scatterplots showing total users on the x axis and then the 4 \n",
    "## different variables on the y axis for weather situation, windspeed, humidity, temperature"
   ]
  },
  {
   "cell_type": "markdown",
   "id": "8c9f123b",
   "metadata": {},
   "source": [
    "If we take a look at the dataset we can see they have recorded a few more weather features, weather status (1 is clear, 2 is misty or cloudy, 3 is rain), windspeed, humidity and temperature. A quick look at the scatterplots above shows that the uptake in bike rentals is reliant on the type of weather, on days with higher windspeed the numbers are also lower, humidity doesn't seem to have a big effect but numbers are definately higher on days where the temperature is neither too high or too low "
   ]
  },
  {
   "cell_type": "code",
   "execution_count": 28,
   "id": "d51f3fb1",
   "metadata": {},
   "outputs": [
    {
     "name": "stdout",
     "output_type": "stream",
     "text": [
      "Totals and average by weathertype\n",
      "weathersit\n",
      "1    2257952\n",
      "2     996858\n",
      "3      37869\n",
      "Name: cnt, dtype: int64 weathersit\n",
      "1    4876.786177\n",
      "2    4035.862348\n",
      "3    1803.285714\n",
      "Name: cnt, dtype: float64\n"
     ]
    }
   ],
   "source": [
    "wea= bkdata.groupby('weathersit').sum()\n",
    "avg= bkdata.groupby('weathersit').mean()\n",
    "print('Totals and average by weathertype')\n",
    "print(wea['cnt'], avg['cnt'])\n",
    "##groups the data by weathersit and prints the totals and averages"
   ]
  },
  {
   "cell_type": "markdown",
   "id": "4d340834",
   "metadata": {},
   "source": [
    "## Weather calculations\n",
    "***"
   ]
  },
  {
   "cell_type": "code",
   "execution_count": 29,
   "id": "ca8c7ae1",
   "metadata": {},
   "outputs": [
    {
     "data": {
      "text/plain": [
       "<seaborn.axisgrid.FacetGrid at 0x26cb2a65ee0>"
      ]
     },
     "execution_count": 29,
     "metadata": {},
     "output_type": "execute_result"
    },
    {
     "data": {
      "image/png": "[encoded data removed]",
      "text/plain": [
       "<Figure size 360x360 with 1 Axes>"
      ]
     },
     "metadata": {
      "needs_background": "light"
     },
     "output_type": "display_data"
    }
   ],
   "source": [
    "sns.displot(bkdata, x='weathersit')\n",
    "## uses seaborn to give a simple barchart of the total count of weathertypes"
   ]
  },
  {
   "cell_type": "code",
   "execution_count": 30,
   "id": "25d8cb0f",
   "metadata": {},
   "outputs": [
    {
     "name": "stdout",
     "output_type": "stream",
     "text": [
      "463\n",
      "247\n",
      "21\n"
     ]
    }
   ],
   "source": [
    "one = bkdata['weathersit'].value_counts()[1]\n",
    "print(one)\n",
    "\n",
    "two = bkdata['weathersit'].value_counts()[2]\n",
    "print(two)\n",
    "\n",
    "three = bkdata['weathersit'].value_counts()[3]\n",
    "print(three)\n",
    "##creates 3 variables, one for each weather type, prints the total occurrances of each"
   ]
  },
  {
   "cell_type": "markdown",
   "id": "3c22bee7",
   "metadata": {},
   "source": [
    "I did the above calculation to see how often the weather type 3(bad weather) occured, but 21 days in 2 years would mean they didn't have a huge effect on the data"
   ]
  },
  {
   "cell_type": "code",
   "execution_count": 31,
   "id": "68d30633",
   "metadata": {},
   "outputs": [
    {
     "name": "stdout",
     "output_type": "stream",
     "text": [
      "1937.2114516187678\n"
     ]
    }
   ],
   "source": [
    "std= bkdata.cnt.std() \n",
    "print(std)\n",
    "##uses the .std() function to get the standard deviation of the data in column cnt"
   ]
  },
  {
   "cell_type": "markdown",
   "id": "8b347008",
   "metadata": {},
   "source": [
    "## Replicating the data\n",
    "***"
   ]
  },
  {
   "cell_type": "code",
   "execution_count": 32,
   "id": "7e83bcc3",
   "metadata": {},
   "outputs": [
    {
     "data": {
      "image/png": "[encoded data removed]",
      "text/plain": [
       "<Figure size 432x288 with 1 Axes>"
      ]
     },
     "metadata": {
      "needs_background": "light"
     },
     "output_type": "display_data"
    }
   ],
   "source": [
    "group = np.random.normal(loc=4504,scale=1307,size=100)\n",
    "weather = np.random.normal(loc=1.3,scale=0.544894342, size=100)\n",
    "sns.scatterplot(x=group,y=weather)\n",
    "plt.show()\n",
    "##use the numpy random function to create 2 variables, group, with the mean 4504 and standard deviation 1307, which we got in\n",
    "##calculations above, and weather using 1 and 0.544. I created 100 instances of each and used seaborn scatterchart to plot\n",
    "##the results"
   ]
  },
  {
   "cell_type": "markdown",
   "id": "1589d628",
   "metadata": {},
   "source": [
    "## Conclusion\n",
    "***"
   ]
  },
  {
   "cell_type": "markdown",
   "id": "8ee5dbcc",
   "metadata": {},
   "source": [
    "Looking at the plot above the results of the simulated data look similar to the real data in that most of the 100 days look to be between 4000 and 5000. This is a basic simulation and it would be possible to make it even more accurate with more calculations around the weekdays and weather data. "
   ]
  }
 ],
 "metadata": {
  "kernelspec": {
   "display_name": "Python 3 (ipykernel)",
   "language": "python",
   "name": "python3"
  },
  "language_info": {
   "codemirror_mode": {
    "name": "ipython",
    "version": 3
   },
   "file_extension": ".py",
   "mimetype": "text/x-python",
   "name": "python",
   "nbconvert_exporter": "python",
   "pygments_lexer": "ipython3",
   "version": "3.9.7"
  }
 },
 "nbformat": 4,
 "nbformat_minor": 5
}
